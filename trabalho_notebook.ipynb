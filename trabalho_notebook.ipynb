{
 "cells": [
  {
   "cell_type": "code",
   "execution_count": 47,
   "metadata": {
    "tags": []
   },
   "outputs": [],
   "source": [
    "import pandas as pd\n",
    "import matplotlib.pyplot as plt\n",
    "import numpy as np\n",
    "import re\n",
    "import json\n",
    "#import plotly.express as px\n",
    "#import plotly.graph_objs as go\n",
    "\n",
    "dados = pd.read_csv('dados-sp-1.csv', sep=\";\", encoding='latin1',\n",
    "    parse_dates=['dataNotificacao', 'dataInicioSintomas', 'dataNascimento', 'dataTeste', 'dataEncerramento'])\n"
   ]
  },
  {
   "cell_type": "code",
   "execution_count": 48,
   "metadata": {},
   "outputs": [],
   "source": [
    "# cleaning the data\n",
    "dados[dados['idade'] > 116] = float(\"NaN\")"
   ]
  },
  {
   "cell_type": "code",
   "execution_count": 49,
   "metadata": {},
   "outputs": [
    {
     "name": "stdout",
     "output_type": "stream",
     "text": [
      "<class 'pandas.core.frame.DataFrame'>\n",
      "RangeIndex: 1000000 entries, 0 to 999999\n",
      "Data columns (total 29 columns):\n",
      " #   Column                    Non-Null Count   Dtype              \n",
      "---  ------                    --------------   -----              \n",
      " 0   ÿid                       999750 non-null  object             \n",
      " 1   dataNotificacao           999563 non-null  datetime64[ns, UTC]\n",
      " 2   dataInicioSintomas        919400 non-null  datetime64[ns, UTC]\n",
      " 3   dataNascimento            999750 non-null  object             \n",
      " 4   sintomas                  997034 non-null  object             \n",
      " 5   profissionalSaude         921412 non-null  object             \n",
      " 6   cbo                       133207 non-null  object             \n",
      " 7   condicoes                 138039 non-null  object             \n",
      " 8   estadoTeste               886626 non-null  object             \n",
      " 9   dataTeste                 803493 non-null  datetime64[ns, UTC]\n",
      " 10  tipoTeste                 709240 non-null  object             \n",
      " 11  resultadoTeste            709252 non-null  object             \n",
      " 12  paisOrigem                999750 non-null  object             \n",
      " 13  sexo                      999740 non-null  object             \n",
      " 14  estado                    999750 non-null  object             \n",
      " 15  estadoIBGE                999750 non-null  float64            \n",
      " 16  municipio                 999710 non-null  object             \n",
      " 17  municipioIBGE             999486 non-null  float64            \n",
      " 18  origem                    999750 non-null  object             \n",
      " 19  estadoNotificacao         998512 non-null  object             \n",
      " 20  estadoNotificacaoIBGE     998512 non-null  float64            \n",
      " 21  municipioNotificacao      999706 non-null  object             \n",
      " 22  municipioNotificacaoIBGE  998421 non-null  float64            \n",
      " 23  excluido                  999750 non-null  object             \n",
      " 24  validado                  999750 non-null  object             \n",
      " 25  idade                     999736 non-null  float64            \n",
      " 26  dataEncerramento          411843 non-null  datetime64[ns, UTC]\n",
      " 27  evolucaoCaso              460572 non-null  object             \n",
      " 28  classificacaoFinal        440422 non-null  object             \n",
      "dtypes: datetime64[ns, UTC](4), float64(5), object(20)\n",
      "memory usage: 221.3+ MB\n",
      "          ÿid                  dataNotificacao dataInicioSintomas  \\\n",
      "0  GwLh4isfpn 2020-06-28 20:29:16.746000+00:00                NaT   \n",
      "1  DBbpaUpBHR 2020-06-28 20:29:19.237000+00:00                NaT   \n",
      "2  R0OnDOENRP 2020-06-28 20:29:21.539000+00:00                NaT   \n",
      "3  TVSXtycWQC 2020-06-28 20:29:23.949000+00:00                NaT   \n",
      "4  4WKVPEl3Bt 2020-06-28 20:29:30.854000+00:00                NaT   \n",
      "\n",
      "  dataNascimento                        sintomas profissionalSaude  cbo  \\\n",
      "0      undefined  Outros: Paciente assintomático               NaN  NaN   \n",
      "1      undefined  Outros: Paciente assintomático               NaN  NaN   \n",
      "2      undefined  Outros: Paciente assintomático               NaN  NaN   \n",
      "3      undefined  Outros: Paciente assintomático               NaN  NaN   \n",
      "4      undefined  Outros: Paciente assintomático               NaN  NaN   \n",
      "\n",
      "  condicoes estadoTeste                 dataTeste  ... estadoNotificacao  \\\n",
      "0       NaN   Concluído 2020-05-22 00:00:00+00:00  ...            PARANÁ   \n",
      "1       NaN   Concluído 2020-05-22 00:00:00+00:00  ...            PARANÁ   \n",
      "2       NaN   Concluído 2020-05-22 00:00:00+00:00  ...            PARANÁ   \n",
      "3       NaN   Concluído 2020-05-22 00:00:00+00:00  ...            PARANÁ   \n",
      "4       NaN   Concluído 2020-05-22 00:00:00+00:00  ...            PARANÁ   \n",
      "\n",
      "  estadoNotificacaoIBGE municipioNotificacao municipioNotificacaoIBGE  \\\n",
      "0                  41.0             Curitiba                4106902.0   \n",
      "1                  41.0             Curitiba                4106902.0   \n",
      "2                  41.0             Curitiba                4106902.0   \n",
      "3                  41.0             Curitiba                4106902.0   \n",
      "4                  41.0             Curitiba                4106902.0   \n",
      "\n",
      "    excluido   validado idade  dataEncerramento evolucaoCaso  \\\n",
      "0  undefined  undefined  32.0               NaT          NaN   \n",
      "1  undefined  undefined  34.0               NaT          NaN   \n",
      "2  undefined  undefined   3.0               NaT          NaN   \n",
      "3  undefined  undefined  43.0               NaT          NaN   \n",
      "4  undefined  undefined  36.0               NaT          NaN   \n",
      "\n",
      "  classificacaoFinal  \n",
      "0                NaN  \n",
      "1                NaN  \n",
      "2                NaN  \n",
      "3                NaN  \n",
      "4                NaN  \n",
      "\n",
      "[5 rows x 29 columns]\n"
     ]
    }
   ],
   "source": [
    "# Checking on the data\n",
    "dados.info()\n",
    "print(dados.head())\n"
   ]
  },
  {
   "cell_type": "code",
   "execution_count": 53,
   "metadata": {},
   "outputs": [
    {
     "name": "stdout",
     "output_type": "stream",
     "text": [
      "count                                 999563\n",
      "mean     2020-06-18 14:58:04.420368640+00:00\n",
      "min                2020-01-04 03:00:00+00:00\n",
      "25%                2020-05-26 03:00:00+00:00\n",
      "50%         2020-06-28 01:45:38.360000+00:00\n",
      "75%                2020-07-14 03:00:00+00:00\n",
      "max         2020-08-20 03:00:46.854000+00:00\n",
      "Name: dataNotificacao, dtype: object\n",
      "Cura                        322022\n",
      "Cancelado                    66118\n",
      "Ignorado                     45070\n",
      "Em tratamento domiciliar     25680\n",
      "Óbito                          852\n",
      "Internado                      712\n",
      "Internado em UTI               118\n",
      "Name: evolucaoCaso, dtype: int64\n"
     ]
    }
   ],
   "source": [
    "print(dados['dataNotificacao'].describe(datetime_is_numeric=True))\n",
    "print(dados['evolucaoCaso'].value_counts())"
   ]
  },
  {
   "cell_type": "code",
   "execution_count": 51,
   "metadata": {},
   "outputs": [
    {
     "data": {
      "image/png": "[encoded data removed]",
      "text/plain": [
       "<Figure size 432x288 with 1 Axes>"
      ]
     },
     "metadata": {
      "needs_background": "light"
     },
     "output_type": "display_data"
    },
    {
     "data": {
      "image/png": "[encoded data removed]",
      "text/plain": [
       "<Figure size 432x288 with 1 Axes>"
      ]
     },
     "metadata": {
      "needs_background": "light"
     },
     "output_type": "display_data"
    },
    {
     "data": {
      "image/png": "[encoded data removed]",
      "text/plain": [
       "<Figure size 432x288 with 1 Axes>"
      ]
     },
     "metadata": {
      "needs_background": "light"
     },
     "output_type": "display_data"
    }
   ],
   "source": [
    "dados.hist(column='idade', bins=116)\n",
    "plt.show()\n",
    "\n",
    "dados['sexo'].value_counts().plot(kind='bar')\n",
    "plt.show()\n",
    "\n",
    "dados['evolucaoCaso'].value_counts().plot(kind='bar')\n",
    "plt.show()\n",
    "\n"
   ]
  },
  {
   "cell_type": "code",
   "execution_count": null,
   "metadata": {},
   "outputs": [],
   "source": []
  }
 ],
 "metadata": {
  "interpreter": {
   "hash": "31f2aee4e71d21fbe5cf8b01ff0e069b9275f58929596ceb00d14d90e3e16cd6"
  },
  "kernelspec": {
   "display_name": "Python 3.8.10 64-bit",
   "name": "python3"
  },
  "language_info": {
   "codemirror_mode": {
    "name": "ipython",
    "version": 3
   },
   "file_extension": ".py",
   "mimetype": "text/x-python",
   "name": "python",
   "nbconvert_exporter": "python",
   "pygments_lexer": "ipython3",
   "version": "3.8.10"
  },
  "orig_nbformat": 4
 },
 "nbformat": 4,
 "nbformat_minor": 2
}