{
 "cells": [
  {
   "cell_type": "code",
   "execution_count": 79,
   "source": [
    "import pandas as pd\r\n",
    "import matplotlib.pyplot as plt\r\n",
    "import numpy as np\r\n",
    "\r\n",
    "import json\r\n",
    "import re\r\n",
    "import json\r\n",
    "import glob\r\n",
    "import datetime\r\n",
    "from collections import Counter\r\n",
    "\r\n",
    "from datetime import datetime\r\n",
    "import math\r\n",
    "import scipy\r\n",
    "import scipy.stats\r\n",
    "import panel as pn\r\n",
    "pn.extension()\r\n",
    "from vega_datasets import data as vds"
   ],
   "outputs": [
    {
     "output_type": "display_data",
     "data": {
      "application/javascript": "\n(function(root) {\n  function now() {\n    return new Date();\n  }\n\n  var force = true;\n\n  if (typeof root._bokeh_onload_callbacks === \"undefined\" || force === true) {\n    root._bokeh_onload_callbacks = [];\n    root._bokeh_is_loading = undefined;\n  }\n\n  if (typeof (root._bokeh_timeout) === \"undefined\" || force === true) {\n    root._bokeh_timeout = Date.now() + 5000;\n    root._bokeh_failed_load = false;\n  }\n\n  function run_callbacks() {\n    try {\n      root._bokeh_onload_callbacks.forEach(function(callback) {\n        if (callback != null)\n          callback();\n      });\n    } finally {\n      delete root._bokeh_onload_callbacks\n    }\n    console.debug(\"Bokeh: all callbacks have finished\");\n  }\n\n  function load_libs(css_urls, js_urls, js_modules, callback) {\n    if (css_urls == null) css_urls = [];\n    if (js_urls == null) js_urls = [];\n    if (js_modules == null) js_modules = [];\n\n    root._bokeh_onload_callbacks.push(callback);\n    if (root._bokeh_is_loading > 0) {\n      console.debug(\"Bokeh: BokehJS is being loaded, scheduling callback at\", now());\n      return null;\n    }\n    if (js_urls.length === 0 && js_modules.length === 0) {\n      run_callbacks();\n      return null;\n    }\n    console.debug(\"Bokeh: BokehJS not loaded, scheduling load and callback at\", now());\n    root._bokeh_is_loading = css_urls.length + js_urls.length + js_modules.length;\n\n    function on_load() {\n      root._bokeh_is_loading--;\n      if (root._bokeh_is_loading === 0) {\n        console.debug(\"Bokeh: all BokehJS libraries/stylesheets loaded\");\n        run_callbacks()\n      }\n    }\n\n    function on_error() {\n      console.error(\"failed to load \" + url);\n    }\n\n    for (var i = 0; i < css_urls.length; i++) {\n      var url = css_urls[i];\n      const element = document.createElement(\"link\");\n      element.onload = on_load;\n      element.onerror = on_error;\n      element.rel = \"stylesheet\";\n      element.type = \"text/css\";\n      element.href = url;\n      console.debug(\"Bokeh: injecting link tag for BokehJS stylesheet: \", url);\n      document.body.appendChild(element);\n    }\n\n    var skip = [];\n    if (window.requirejs) {\n      window.requirejs.config({'paths': {'tabulator': 'https://unpkg.com/tabulator-tables@4.9.3/dist/js/tabulator'}});\n      require([], function() {\n      })\n    }\n    if (((window['tabulator'] !== undefined) && (!(window['tabulator'] instanceof HTMLElement))) || window.requirejs) {\n      var urls = ['https://unpkg.com/tabulator-tables@4.9.3/dist/js/tabulator.js', 'https://unpkg.com/moment@2.27.0/moment.js'];\n      for (var i = 0; i < urls.length; i++) {\n        skip.push(urls[i])\n      }\n    }\n    for (var i = 0; i < js_urls.length; i++) {\n      var url = js_urls[i];\n      if (skip.indexOf(url) >= 0) { on_load(); continue; }\n      var element = document.createElement('script');\n      element.onload = on_load;\n      element.onerror = on_error;\n      element.async = false;\n      element.src = url;\n      console.debug(\"Bokeh: injecting script tag for BokehJS library: \", url);\n      document.head.appendChild(element);\n    }\n    for (var i = 0; i < js_modules.length; i++) {\n      var url = js_modules[i];\n      if (skip.indexOf(url) >= 0) { on_load(); continue; }\n      var element = document.createElement('script');\n      element.onload = on_load;\n      element.onerror = on_error;\n      element.async = false;\n      element.src = url;\n      element.type = \"module\";\n      console.debug(\"Bokeh: injecting script tag for BokehJS library: \", url);\n      document.head.appendChild(element);\n    }\n    if (!js_urls.length && !js_modules.length) {\n      on_load()\n    }\n  };\n\n  function inject_raw_css(css) {\n    const element = document.createElement(\"style\");\n    element.appendChild(document.createTextNode(css));\n    document.body.appendChild(element);\n  }\n\n  var js_urls = [\"https://unpkg.com/tabulator-tables@4.9.3/dist/js/tabulator.js\", \"https://unpkg.com/moment@2.27.0/moment.js\", \"https://cdn.bokeh.org/bokeh/release/bokeh-2.3.3.min.js\", \"https://cdn.bokeh.org/bokeh/release/bokeh-widgets-2.3.3.min.js\", \"https://cdn.bokeh.org/bokeh/release/bokeh-tables-2.3.3.min.js\", \"https://unpkg.com/@holoviz/panel@0.11.3/dist/panel.min.js\"];\n  var js_modules = [];\n  var css_urls = [\"https://unpkg.com/tabulator-tables@4.9.3/dist/css/tabulator_simple.min.css\", \"https://unpkg.com/@holoviz/panel@0.11.3/dist/css/alerts.css\", \"https://unpkg.com/@holoviz/panel@0.11.3/dist/css/card.css\", \"https://unpkg.com/@holoviz/panel@0.11.3/dist/css/dataframe.css\", \"https://unpkg.com/@holoviz/panel@0.11.3/dist/css/json.css\", \"https://unpkg.com/@holoviz/panel@0.11.3/dist/css/loading.css\", \"https://unpkg.com/@holoviz/panel@0.11.3/dist/css/markdown.css\", \"https://unpkg.com/@holoviz/panel@0.11.3/dist/css/widgets.css\"];\n  var inline_js = [\n    function(Bokeh) {\n      inject_raw_css(\"\\n    .bk.pn-loading.arcs:before {\\n      background-image: url(\\\"data:image/svg+xml;base64,PHN2ZyB4bWxucz0iaHR0cDovL3d3dy53My5vcmcvMjAwMC9zdmciIHhtbG5zOnhsaW5rPSJodHRwOi8vd3d3LnczLm9yZy8xOTk5L3hsaW5rIiBzdHlsZT0ibWFyZ2luOiBhdXRvOyBiYWNrZ3JvdW5kOiBub25lOyBkaXNwbGF5OiBibG9jazsgc2hhcGUtcmVuZGVyaW5nOiBhdXRvOyIgdmlld0JveD0iMCAwIDEwMCAxMDAiIHByZXNlcnZlQXNwZWN0UmF0aW89InhNaWRZTWlkIj4gIDxjaXJjbGUgY3g9IjUwIiBjeT0iNTAiIHI9IjMyIiBzdHJva2Utd2lkdGg9IjgiIHN0cm9rZT0iI2MzYzNjMyIgc3Ryb2tlLWRhc2hhcnJheT0iNTAuMjY1NDgyNDU3NDM2NjkgNTAuMjY1NDgyNDU3NDM2NjkiIGZpbGw9Im5vbmUiIHN0cm9rZS1saW5lY2FwPSJyb3VuZCI+ICAgIDxhbmltYXRlVHJhbnNmb3JtIGF0dHJpYnV0ZU5hbWU9InRyYW5zZm9ybSIgdHlwZT0icm90YXRlIiByZXBlYXRDb3VudD0iaW5kZWZpbml0ZSIgZHVyPSIxcyIga2V5VGltZXM9IjA7MSIgdmFsdWVzPSIwIDUwIDUwOzM2MCA1MCA1MCI+PC9hbmltYXRlVHJhbnNmb3JtPiAgPC9jaXJjbGU+PC9zdmc+\\\")\\n    }\\n    \");\n    },\n    function(Bokeh) {\n      Bokeh.set_log_level(\"info\");\n    },\n    function(Bokeh) {} // ensure no trailing comma for IE\n  ];\n\n  function run_inline_js() {\n    if ((root.Bokeh !== undefined) || (force === true)) {\n      for (var i = 0; i < inline_js.length; i++) {\n        inline_js[i].call(root, root.Bokeh);\n      }} else if (Date.now() < root._bokeh_timeout) {\n      setTimeout(run_inline_js, 100);\n    } else if (!root._bokeh_failed_load) {\n      console.log(\"Bokeh: BokehJS failed to load within specified timeout.\");\n      root._bokeh_failed_load = true;\n    }\n  }\n\n  if (root._bokeh_is_loading === 0) {\n    console.debug(\"Bokeh: BokehJS loaded, going straight to plotting\");\n    run_inline_js();\n  } else {\n    load_libs(css_urls, js_urls, js_modules, function() {\n      console.debug(\"Bokeh: BokehJS plotting callback run at\", now());\n      run_inline_js();\n    });\n  }\n}(window));",
      "application/vnd.holoviews_load.v0+json": ""
     },
     "metadata": {}
    },
    {
     "output_type": "display_data",
     "data": {
      "application/javascript": "\nif ((window.PyViz === undefined) || (window.PyViz instanceof HTMLElement)) {\n  window.PyViz = {comms: {}, comm_status:{}, kernels:{}, receivers: {}, plot_index: []}\n}\n\n\n    function JupyterCommManager() {\n    }\n\n    JupyterCommManager.prototype.register_target = function(plot_id, comm_id, msg_handler) {\n      if (window.comm_manager || ((window.Jupyter !== undefined) && (Jupyter.notebook.kernel != null))) {\n        var comm_manager = window.comm_manager || Jupyter.notebook.kernel.comm_manager;\n        comm_manager.register_target(comm_id, function(comm) {\n          comm.on_msg(msg_handler);\n        });\n      } else if ((plot_id in window.PyViz.kernels) && (window.PyViz.kernels[plot_id])) {\n        window.PyViz.kernels[plot_id].registerCommTarget(comm_id, function(comm) {\n          comm.onMsg = msg_handler;\n        });\n      } else if (typeof google != 'undefined' && google.colab.kernel != null) {\n        google.colab.kernel.comms.registerTarget(comm_id, (comm) => {\n          var messages = comm.messages[Symbol.asyncIterator]();\n          function processIteratorResult(result) {\n            var message = result.value;\n            console.log(message)\n            var content = {data: message.data, comm_id};\n            var buffers = []\n            for (var buffer of message.buffers || []) {\n              buffers.push(new DataView(buffer))\n            }\n            var metadata = message.metadata || {};\n            var msg = {content, buffers, metadata}\n            msg_handler(msg);\n            return messages.next().then(processIteratorResult);\n          }\n          return messages.next().then(processIteratorResult);\n        })\n      }\n    }\n\n    JupyterCommManager.prototype.get_client_comm = function(plot_id, comm_id, msg_handler) {\n      if (comm_id in window.PyViz.comms) {\n        return window.PyViz.comms[comm_id];\n      } else if (window.comm_manager || ((window.Jupyter !== undefined) && (Jupyter.notebook.kernel != null))) {\n        var comm_manager = window.comm_manager || Jupyter.notebook.kernel.comm_manager;\n        var comm = comm_manager.new_comm(comm_id, {}, {}, {}, comm_id);\n        if (msg_handler) {\n          comm.on_msg(msg_handler);\n        }\n      } else if ((plot_id in window.PyViz.kernels) && (window.PyViz.kernels[plot_id])) {\n        var comm = window.PyViz.kernels[plot_id].connectToComm(comm_id);\n        comm.open();\n        if (msg_handler) {\n          comm.onMsg = msg_handler;\n        }\n      } else if (typeof google != 'undefined' && google.colab.kernel != null) {\n        var comm_promise = google.colab.kernel.comms.open(comm_id)\n        comm_promise.then((comm) => {\n          window.PyViz.comms[comm_id] = comm;\n          if (msg_handler) {\n            var messages = comm.messages[Symbol.asyncIterator]();\n            function processIteratorResult(result) {\n              var message = result.value;\n              var content = {data: message.data};\n              var metadata = message.metadata || {comm_id};\n              var msg = {content, metadata}\n              msg_handler(msg);\n              return messages.next().then(processIteratorResult);\n            }\n            return messages.next().then(processIteratorResult);\n          }\n        }) \n        var sendClosure = (data, metadata, buffers, disposeOnDone) => {\n          return comm_promise.then((comm) => {\n            comm.send(data, metadata, buffers, disposeOnDone);\n          });\n        };\n        var comm = {\n          send: sendClosure\n        };\n      }\n      window.PyViz.comms[comm_id] = comm;\n      return comm;\n    }\n    window.PyViz.comm_manager = new JupyterCommManager();\n    \n\n\nvar JS_MIME_TYPE = 'application/javascript';\nvar HTML_MIME_TYPE = 'text/html';\nvar EXEC_MIME_TYPE = 'application/vnd.holoviews_exec.v0+json';\nvar CLASS_NAME = 'output';\n\n/**\n * Render data to the DOM node\n */\nfunction render(props, node) {\n  var div = document.createElement(\"div\");\n  var script = document.createElement(\"script\");\n  node.appendChild(div);\n  node.appendChild(script);\n}\n\n/**\n * Handle when a new output is added\n */\nfunction handle_add_output(event, handle) {\n  var output_area = handle.output_area;\n  var output = handle.output;\n  if ((output.data == undefined) || (!output.data.hasOwnProperty(EXEC_MIME_TYPE))) {\n    return\n  }\n  var id = output.metadata[EXEC_MIME_TYPE][\"id\"];\n  var toinsert = output_area.element.find(\".\" + CLASS_NAME.split(' ')[0]);\n  if (id !== undefined) {\n    var nchildren = toinsert.length;\n    var html_node = toinsert[nchildren-1].children[0];\n    html_node.innerHTML = output.data[HTML_MIME_TYPE];\n    var scripts = [];\n    var nodelist = html_node.querySelectorAll(\"script\");\n    for (var i in nodelist) {\n      if (nodelist.hasOwnProperty(i)) {\n        scripts.push(nodelist[i])\n      }\n    }\n\n    scripts.forEach( function (oldScript) {\n      var newScript = document.createElement(\"script\");\n      var attrs = [];\n      var nodemap = oldScript.attributes;\n      for (var j in nodemap) {\n        if (nodemap.hasOwnProperty(j)) {\n          attrs.push(nodemap[j])\n        }\n      }\n      attrs.forEach(function(attr) { newScript.setAttribute(attr.name, attr.value) });\n      newScript.appendChild(document.createTextNode(oldScript.innerHTML));\n      oldScript.parentNode.replaceChild(newScript, oldScript);\n    });\n    if (JS_MIME_TYPE in output.data) {\n      toinsert[nchildren-1].children[1].textContent = output.data[JS_MIME_TYPE];\n    }\n    output_area._hv_plot_id = id;\n    if ((window.Bokeh !== undefined) && (id in Bokeh.index)) {\n      window.PyViz.plot_index[id] = Bokeh.index[id];\n    } else {\n      window.PyViz.plot_index[id] = null;\n    }\n  } else if (output.metadata[EXEC_MIME_TYPE][\"server_id\"] !== undefined) {\n    var bk_div = document.createElement(\"div\");\n    bk_div.innerHTML = output.data[HTML_MIME_TYPE];\n    var script_attrs = bk_div.children[0].attributes;\n    for (var i = 0; i < script_attrs.length; i++) {\n      toinsert[toinsert.length - 1].childNodes[1].setAttribute(script_attrs[i].name, script_attrs[i].value);\n    }\n    // store reference to server id on output_area\n    output_area._bokeh_server_id = output.metadata[EXEC_MIME_TYPE][\"server_id\"];\n  }\n}\n\n/**\n * Handle when an output is cleared or removed\n */\nfunction handle_clear_output(event, handle) {\n  var id = handle.cell.output_area._hv_plot_id;\n  var server_id = handle.cell.output_area._bokeh_server_id;\n  if (((id === undefined) || !(id in PyViz.plot_index)) && (server_id !== undefined)) { return; }\n  var comm = window.PyViz.comm_manager.get_client_comm(\"hv-extension-comm\", \"hv-extension-comm\", function () {});\n  if (server_id !== null) {\n    comm.send({event_type: 'server_delete', 'id': server_id});\n    return;\n  } else if (comm !== null) {\n    comm.send({event_type: 'delete', 'id': id});\n  }\n  delete PyViz.plot_index[id];\n  if ((window.Bokeh !== undefined) & (id in window.Bokeh.index)) {\n    var doc = window.Bokeh.index[id].model.document\n    doc.clear();\n    const i = window.Bokeh.documents.indexOf(doc);\n    if (i > -1) {\n      window.Bokeh.documents.splice(i, 1);\n    }\n  }\n}\n\n/**\n * Handle kernel restart event\n */\nfunction handle_kernel_cleanup(event, handle) {\n  delete PyViz.comms[\"hv-extension-comm\"];\n  window.PyViz.plot_index = {}\n}\n\n/**\n * Handle update_display_data messages\n */\nfunction handle_update_output(event, handle) {\n  handle_clear_output(event, {cell: {output_area: handle.output_area}})\n  handle_add_output(event, handle)\n}\n\nfunction register_renderer(events, OutputArea) {\n  function append_mime(data, metadata, element) {\n    // create a DOM node to render to\n    var toinsert = this.create_output_subarea(\n    metadata,\n    CLASS_NAME,\n    EXEC_MIME_TYPE\n    );\n    this.keyboard_manager.register_events(toinsert);\n    // Render to node\n    var props = {data: data, metadata: metadata[EXEC_MIME_TYPE]};\n    render(props, toinsert[0]);\n    element.append(toinsert);\n    return toinsert\n  }\n\n  events.on('output_added.OutputArea', handle_add_output);\n  events.on('output_updated.OutputArea', handle_update_output);\n  events.on('clear_output.CodeCell', handle_clear_output);\n  events.on('delete.Cell', handle_clear_output);\n  events.on('kernel_ready.Kernel', handle_kernel_cleanup);\n\n  OutputArea.prototype.register_mime_type(EXEC_MIME_TYPE, append_mime, {\n    safe: true,\n    index: 0\n  });\n}\n\nif (window.Jupyter !== undefined) {\n  try {\n    var events = require('base/js/events');\n    var OutputArea = require('notebook/js/outputarea').OutputArea;\n    if (OutputArea.prototype.mime_types().indexOf(EXEC_MIME_TYPE) == -1) {\n      register_renderer(events, OutputArea);\n    }\n  } catch(err) {\n  }\n}\n",
      "application/vnd.holoviews_load.v0+json": ""
     },
     "metadata": {}
    }
   ],
   "metadata": {}
  },
  {
   "cell_type": "code",
   "execution_count": 71,
   "source": [
    "# Gerando os URL dos .csv\r\n",
    "caminho = r'dados_aux/dados-sp-'\r\n",
    "todos_dados_csv = glob.glob(caminho + \"*.csv\")\r\n",
    "\r\n",
    "# Colunas que incluem datas\r\n",
    "datas = ['dataNotificacao', 'dataInicioSintomas', 'dataTeste', 'dataEncerramento']\r\n",
    "\r\n",
    "# Colunas a serem lidas\r\n",
    "cols = [\"dataNotificacao\", \"dataInicioSintomas\", \"sintomas\", \"profissionalSaude\", \"cbo\",\"condicoes\",\r\n",
    "        \"dataTeste\", \"tipoTeste\", \"resultadoTeste\", \"sexo\", \"municipio\", \"municipioIBGE\", \"estadoNotificacao\",\r\n",
    "        \"estadoNotificacaoIBGE\", \"idade\", \"dataEncerramento\", \"evolucaoCaso\", \"classificacaoFinal\"]\r\n",
    "\r\n",
    "# Carregando os dados\r\n",
    "dados = pd.concat((pd.read_csv(f, sep=';', encoding='latin1', parse_dates=datas, usecols=cols, infer_datetime_format = False) for f in todos_dados_csv), ignore_index = True)"
   ],
   "outputs": [],
   "metadata": {}
  },
  {
   "cell_type": "code",
   "execution_count": 72,
   "source": [
    "# Exclui as linhas cujas colunas indicadas abaixo sao null\r\n",
    "dados.dropna(subset = [\"dataTeste\",\"tipoTeste\", \"resultadoTeste\", \"classificacaoFinal\"], inplace = True)\r\n",
    "\r\n",
    "# Exclui os dados Cancelados\r\n",
    "dados.drop(dados[dados['evolucaoCaso'] == 'Cancelado'].index, inplace = True)\r\n",
    "\r\n",
    "# Exclui os dados que possuem datas fora do escopo esperado\r\n",
    "data_limite_inferior = np.datetime64('2020-01-01', 'ns') # Comeco da pandemia\r\n",
    "data_limite_superior = np.datetime64('2021-03-25', 'ns') # A publicacao dos dados mais recentes ocorreram nesse dia\r\n",
    "for data in datas:\r\n",
    "    dados[data] = pd.to_datetime(dados[data], utc=True).dt.tz_localize(None) # Retira o fuso horario\r\n",
    "    dados.drop(dados[(dados[data] < data_limite_inferior) | (dados[data] > data_limite_superior)].index, inplace = True) # Exclui\r\n",
    "\r\n",
    "dados[dados['idade'] > 116] = float(\"NaN\") # Exclui idades invalidas\r\n",
    "dados.reset_index(drop=True, inplace = True) # Realoca os indices depois das exclusoes"
   ],
   "outputs": [],
   "metadata": {}
  },
  {
   "cell_type": "code",
   "execution_count": 73,
   "source": [
    "cidades = {}\r\n",
    "for i in range(len(dados)):\r\n",
    "    cidadeIBGE = dados['municipioIBGE'][i]\r\n",
    "    if cidadeIBGE != cidadeIBGE: # Precisa disso pra pular os dados cujo campo municipioIBGE é NULL (float vira NaN)\r\n",
    "        continue\r\n",
    "    cidadeIBGE = int(cidadeIBGE)\r\n",
    "    resultadoTeste = dados['resultadoTeste'][i]\r\n",
    "    if cidadeIBGE not in cidades:\r\n",
    "        cidades[cidadeIBGE] = {}\r\n",
    "        cidades[cidadeIBGE]['Nome'] = dados['municipio'][i]\r\n",
    "        cidades[cidadeIBGE]['Positivo'] = 0\r\n",
    "        cidades[cidadeIBGE]['Negativo'] = 0\r\n",
    "        cidades[cidadeIBGE]['Inconclusivo ou Indeterminado'] = 0\r\n",
    "\r\n",
    "    # Precisa disso por causa dos NaN\r\n",
    "    if resultadoTeste not in cidades[cidadeIBGE]:\r\n",
    "        cidades[cidadeIBGE][resultadoTeste] = 0\r\n",
    "    cidades[cidadeIBGE][resultadoTeste] += 1"
   ],
   "outputs": [],
   "metadata": {}
  },
  {
   "cell_type": "code",
   "execution_count": 74,
   "source": [
    "#Criando o histograma do número de testes com resultado e classificação final\r\n",
    "dados['dataTeste'] = pd.to_datetime(dados['dataTeste'])\r\n",
    "dados = dados.sort_values('dataTeste', ascending=True)\r\n",
    "plt.figure(dpi=100)\r\n",
    "dados['dataTeste'].hist(bins=100)\r\n",
    "plt.xticks(rotation='vertical')\r\n",
    "plt.show()"
   ],
   "outputs": [
    {
     "output_type": "display_data",
     "data": {
      "text/plain": [
       "<Figure size 600x400 with 1 Axes>"
      ],
      "image/png": "[encoded data removed]"
     },
     "metadata": {
      "needs_background": "light"
     }
    }
   ],
   "metadata": {}
  },
  {
   "cell_type": "code",
   "execution_count": 95,
   "source": [
    "#Número total de testes realizados e que apresentam uma classificação final\r\n",
    "total_testes = dados.shape[0]\r\n",
    "\r\n",
    "\r\n",
    "#Número de falsos negativos dos testes\r\n",
    "teste_RT_falsoneg = len(dados.query('tipoTeste == \"RT-PCR\" & resultadoTeste == \"Negativo\" & classificacaoFinal != \"Descartado\"'))\r\n",
    "teste_anticorpo_falsoneg = len(dados.query('tipoTeste == \"TESTE RÁPIDO - ANTICORPO\" & resultadoTeste == \"Negativo\" & classificacaoFinal != \"Descartado\"'))\r\n",
    "teste_antigeno_falsoneg = len(dados.query('tipoTeste == \"TESTE RÁPIDO - ANTÍGENO\" & resultadoTeste == \"Negativo\" & classificacaoFinal != \"Descartado\"'))\r\n",
    "teste_ELISA_falsoneg = len(dados.query('(tipoTeste == \"Enzimaimunoensaio - ELISA IgM\" | tipoTeste == \"Enzimaimunoensaio \u0013 ELISA\") & resultadoTeste == \"Negativo\" & classificacaoFinal != \"Descartado\"'))\r\n",
    "teste_CLIA_falsoneg = len(dados.query('(tipoTeste == \"Quimioluminescência - CLIA\" | tipoTeste == \"Imunoensaio por Eletroquimioluminescência \u0013 ECLIA\") & resultadoTeste == \"Negativo\" & classificacaoFinal != \"Descartado\"'))\r\n",
    "teste_ECLIA_falsoneg = len(dados.query('tipoTeste == \"Imunoensaio por Eletroquimioluminescência - ECLIA IgG\" & resultadoTeste == \"Negativo\" & classificacaoFinal != \"Descartado\"'))\r\n",
    "\r\n",
    "\r\n",
    "#Número de falsos positivos dos testes\r\n",
    "teste_RT_falsoposi = len(dados.query('tipoTeste == \"RT-PCR\" & resultadoTeste == \"Positivo\" & (classificacaoFinal == \"Descartado\" | classificacaoFinal == \"Síndrome Gripal não Especificada\")'))\r\n",
    "teste_anticorpo_falsoposi = len(dados.query('tipoTeste == \"TESTE RÁPIDO - ANTICORPO\" & (classificacaoFinal == \"Descartado\" | classificacaoFinal == \"Síndrome Gripal não Especificada\")'))\r\n",
    "teste_antigeno_falsoposi = len(dados.query('tipoTeste == \"TESTE RÁPIDO - ANTÍGENO\" & resultadoTeste == \"Positivo\" & (classificacaoFinal == \"Descartado\" | classificacaoFinal == \"Síndrome Gripal não Especificada\")'))\r\n",
    "teste_ELISA_falsoposi = len(dados.query('(tipoTeste == \"Enzimaimunoensaio - ELISA IgM\" | tipoTeste == \"Enzimaimunoensaio \u0013 ELISA\") & resultadoTeste == \"Positivo\" & (classificacaoFinal == \"Descartado\" | classificacaoFinal == \"Síndrome Gripal não Especificada\")'))\r\n",
    "teste_CLIA_falsoposi = len(dados.query('(tipoTeste == \"Quimioluminescência - CLIA\" | tipoTeste == \"Imunoensaio por Eletroquimioluminescência \u0013 ECLIA\") & resultadoTeste == \"Positivo\" & (classificacaoFinal == \"Descartado\" | classificacaoFinal == \"Síndrome Gripal não Especificada\")'))\r\n",
    "teste_ECLIA_falsoposi = len(dados.query('tipoTeste == \"Imunoensaio por Eletroquimioluminescência - ECLIA IgG\" & resultadoTeste == \"Positivo\" & (classificacaoFinal == \"Descartado\" | classificacaoFinal == \"Síndrome Gripal não Especificada\")'))\r\n",
    "\r\n",
    "\r\n",
    "#Número total de testes realizados e que apresentam uma classificação final\r\n",
    "total_RT = len(dados.query('tipoTeste == \"RT-PCR\"'))\r\n",
    "total_anticorpo = len(dados.query('tipoTeste == \"TESTE RÁPIDO - ANTICORPO\" '))\r\n",
    "total_antigeno = len(dados.query('tipoTeste == \"TESTE RÁPIDO - ANTÍGENO\" '))\r\n",
    "total_ELISA = len(dados.query('(tipoTeste == \"Enzimaimunoensaio - ELISA IgM\" | tipoTeste == \"Enzimaimunoensaio \u0013 ELISA\")'))\r\n",
    "total_CLIA = len(dados.query('(tipoTeste == \"Quimioluminescência - CLIA\" | tipoTeste == \"Imunoensaio por Eletroquimioluminescência \u0013 ECLIA\") '))\r\n",
    "total_ECLIA = len(dados.query('tipoTeste == \"Imunoensaio por Eletroquimioluminescência - ECLIA IgG\"'))\r\n",
    "\r\n",
    "probabilidade_falsoneg = [teste_RT_falsoneg/total_RT, teste_anticorpo_falsoneg/total_anticorpo, teste_antigeno_falsoneg/total_antigeno, teste_ELISA_falsoneg/total_ELISA, teste_CLIA_falsoneg/total_CLIA, teste_ECLIA_falsoneg/total_ECLIA]\r\n",
    "probabilidade_falsoposi = [teste_RT_falsoposi/total_RT, teste_anticorpo_falsoposi/total_anticorpo, teste_antigeno_falsoposi/total_antigeno, teste_ELISA_falsoposi/total_ELISA, teste_CLIA_falsoposi/total_CLIA, teste_ECLIA_falsoposi/total_ECLIA]\r\n",
    "\r\n",
    "print(\"Porcentagem de falsos negativos para cada teste:\\n\")\r\n",
    "print('Teste RT-PCR : ',probabilidade_falsoneg[0] *100,'%')\r\n",
    "print('Teste Rápido - Anticorpo : ',probabilidade_falsoneg[1]*100,'%')\r\n",
    "print('Teste Rápido - Antígeno :',probabilidade_falsoneg[2]*100,'%')\r\n",
    "print('Teste Enzimaimunoensaio - ELISA : ',probabilidade_falsoneg[3]*100,'%')\r\n",
    "print('Teste Quimioluminescência - CLIA : ',probabilidade_falsoneg[4]*100,'%')\r\n",
    "print('Teste Imunoensaio por Eletroquimioluminescência - ECLIA IgG : ',probabilidade_falsoneg[5]*100,'%')\r\n",
    "\r\n",
    "print(\"\\nPorcentagem de falsos positivos para cada teste:\\n\")\r\n",
    "\r\n",
    "print('Teste RT-PCR : ',probabilidade_falsoposi[0] *100,'%')\r\n",
    "print('Teste Rápido - Anticorpo : ',probabilidade_falsoposi[1]*100,'%')\r\n",
    "print('Teste Rápido - Antígeno :',probabilidade_falsoposi[2]*100,'%')\r\n",
    "print('Teste Enzimaimunoensaio - ELISA : ',probabilidade_falsoposi[3]*100,'%')\r\n",
    "print('Teste Quimioluminescência - CLIA : ',probabilidade_falsoposi[4]*100,'%')\r\n",
    "print('Teste Imunoensaio por Eletroquimioluminescência - ECLIA IgG : ',probabilidade_falsoposi[5]*100,'%')"
   ],
   "outputs": [
    {
     "output_type": "stream",
     "name": "stdout",
     "text": [
      "Porcentagem de falsos negativos para cada teste:\n",
      "\n",
      "Teste RT-PCR :  14.823144356005615 %\n",
      "Teste Rápido - Anticorpo :  14.621331064437884 %\n",
      "Teste Rápido - Antígeno : 12.526294748665034 %\n",
      "Teste Enzimaimunoensaio - ELISA :  12.950115626032375 %\n",
      "Teste Quimioluminescência - CLIA :  2.8238616307800917 %\n",
      "Teste Imunoensaio por Eletroquimioluminescência - ECLIA IgG :  3.8476337052712584 %\n",
      "\n",
      "Porcentagem de falsos positivos para cada teste:\n",
      "\n",
      "Teste RT-PCR :  0.34023461723724907 %\n",
      "Teste Rápido - Anticorpo :  58.73140853280183 %\n",
      "Teste Rápido - Antígeno : 0.4625972072835264 %\n",
      "Teste Enzimaimunoensaio - ELISA :  0.16518004625041297 %\n",
      "Teste Quimioluminescência - CLIA :  0.4941757853865161 %\n",
      "Teste Imunoensaio por Eletroquimioluminescência - ECLIA IgG :  0.11542901115813775 %\n"
     ]
    }
   ],
   "metadata": {}
  },
  {
   "cell_type": "code",
   "execution_count": 104,
   "source": [
    "def erro_otimista(alpha, probabilidade, total_casos):\r\n",
    "    return abs(scipy.stats.norm.ppf(alpha/2)) *  math.sqrt(probabilidade *(1 - probabilidade)/total_casos)\r\n",
    "\r\n",
    "def erro_conservativo(alpha, total_casos):\r\n",
    "    return abs(scipy.stats.norm.ppf(alpha/2)) *  1/math.sqrt(4 * total_casos)\r\n",
    "\r\n",
    "# A partir da análise pontual podemos encontrar a estimativa intervalar para cada teste com alpha = 1% = 0.01\r\n",
    "alpha = 0.01\r\n",
    "\r\n",
    "#Fazendo a análise para os casos falsos negativos\r\n",
    "\r\n",
    "#Para o caso da abordagem otimista\r\n",
    "erros_otimistas_falsoneg = [erro_otimista(alpha, probabilidade_falsoneg[0], total_RT),erro_otimista(alpha, probabilidade_falsoneg[1], total_anticorpo),\r\n",
    "                   erro_otimista(alpha, probabilidade_falsoneg[2], total_antigeno), erro_otimista(alpha, probabilidade_falsoneg[3], total_ELISA),\r\n",
    "                   erro_otimista(alpha, probabilidade_falsoneg[4], total_CLIA), erro_otimista(alpha, probabilidade_falsoneg[5], total_ECLIA)]\r\n",
    "\r\n",
    "\r\n",
    "\r\n",
    "#Estimativa intervalar para a abordagem otimista\r\n",
    "print('Considerando a abordagem otimista\\n')\r\n",
    "print('Teste RT-PCR : [',(probabilidade_falsoneg[0] - erros_otimistas_falsoneg[0])*100,\";\",(probabilidade_falsoneg[0] + erros_otimistas_falsoneg[0])*100,']')\r\n",
    "print('Teste Rápido - Anticorpo : [',(probabilidade_falsoneg[1] - erros_otimistas_falsoneg[1])*100,\";\",(probabilidade_falsoneg[1] + erros_otimistas_falsoneg[1])*100,']')\r\n",
    "print('Teste Rápido - Antígeno : [',(probabilidade_falsoneg[2] - erros_otimistas_falsoneg[2])*100,\";\",(probabilidade_falsoneg[2] + erros_otimistas_falsoneg[2])*100,']')\r\n",
    "print('Teste Enzimaimunoensaio - ELISA : [',(probabilidade_falsoneg[3] - erros_otimistas_falsoneg[3])*100,\";\",(probabilidade_falsoneg[3] + erros_otimistas_falsoneg[3])*100,']')\r\n",
    "print('Teste Quimioluminescência - CLIA : [',(probabilidade_falsoneg[4] - erros_otimistas_falsoneg[4])*100,\";\",(probabilidade_falsoneg[4] + erros_otimistas_falsoneg[4])*100,']')\r\n",
    "print('Teste Imunoensaio por Eletroquimioluminescência - ECLIA IgG : [',(probabilidade_falsoneg[5] - erros_otimistas_falsoneg[5])*100,\";\",(probabilidade_falsoneg[5] + erros_otimistas_falsoneg[5])*100,']')\r\n",
    "\r\n",
    "#Para o caso da abordagem conservativa\r\n",
    "erros_conservativos_falsoneg = [erro_conservativo(alpha, total_RT), erro_conservativo(alpha, total_anticorpo), \r\n",
    "                                erro_conservativo(alpha, total_antigeno), erro_conservativo(alpha, total_ELISA),\r\n",
    "                                erro_conservativo(alpha, total_CLIA), erro_conservativo(alpha, total_ECLIA)]\r\n",
    "\r\n",
    "\r\n",
    "#Estimativa intervalar para a abordagem conservativa\r\n",
    "print('\\nConsiderando a abordagem conservativa\\n')\r\n",
    "print('Teste RT-PCR : [',(probabilidade_falsoneg[0] - erros_conservativos_falsoneg[0])*100,\";\",(probabilidade_falsoneg[0] + erros_conservativos_falsoneg[0])*100,']')\r\n",
    "print('Teste Rápido - Anticorpo : [',(probabilidade_falsoneg[1]  - erros_conservativos_falsoneg[1])*100,\";\",(probabilidade_falsoneg[1]  + erros_conservativos_falsoneg[1])*100,']')\r\n",
    "print('Teste Rápido - Antígeno : [',(probabilidade_falsoneg[2]  - erros_conservativos_falsoneg[2])*100,\";\",(probabilidade_falsoneg[2] + erros_conservativos_falsoneg[2])*100,']')\r\n",
    "print('Teste Enzimaimunoensaio - ELISA : [',(probabilidade_falsoneg[3]  - erros_conservativos_falsoneg[3])*100,\";\",(probabilidade_falsoneg[3]  + erros_conservativos_falsoneg[3])*100,']')\r\n",
    "print('Teste Quimioluminescência - CLIA : [',(probabilidade_falsoneg[4]  - erros_conservativos_falsoneg[4])*100,\";\",(probabilidade_falsoneg[4]  + erros_conservativos_falsoneg[4])*100,']')\r\n",
    "print('Teste Imunoensaio por Eletroquimioluminescência - ECLIA IgG : [',(probabilidade_falsoneg[5]  - erros_conservativos_falsoneg[5])*100,\";\",(probabilidade_falsoneg[5] + erros_conservativos_falsoneg[5])*100,']')\r\n",
    "\r\n",
    "#Fazendo a análise para os casos falsos positivos\r\n",
    "\r\n",
    "erros_otimistas_falsoposi = [erro_otimista(alpha, probabilidade_falsoposi[0], total_RT),erro_otimista(alpha, probabilidade_falsoposi[1], total_anticorpo),\r\n",
    "                   erro_otimista(alpha, probabilidade_falsoposi[2], total_antigeno), erro_otimista(alpha, probabilidade_falsoposi[3], total_ELISA),\r\n",
    "                   erro_otimista(alpha, probabilidade_falsoposi[4], total_CLIA), erro_otimista(alpha, probabilidade_falsoposi[5], total_ECLIA)]\r\n",
    "\r\n",
    "#Estimativa intervalar para a abordagem otimista\r\n",
    "print('\\nConsiderando a abordagem otimista \\n')\r\n",
    "print('Teste RT-PCR : [',(probabilidade_falsoposi[0] - erros_otimistas_falsoposi[0])*100,\";\",(probabilidade_falsoposi[0] + erros_otimistas_falsoposi[0])*100,']')\r\n",
    "print('Teste Rápido - Anticorpo : [',(probabilidade_falsoposi[1] - erros_otimistas_falsoposi[1])*100,\";\",(probabilidade_falsoposi[1] + erros_otimistas_falsoposi[1])*100,']')\r\n",
    "print('Teste Rápido - Antígeno : [',(probabilidade_falsoposi[2] - erros_otimistas_falsoposi[2])*100,\";\",(probabilidade_falsoposi[2] + erros_otimistas_falsoposi[2])*100,']')\r\n",
    "print('Teste Enzimaimunoensaio - ELISA : [',(probabilidade_falsoposi[3] - erros_otimistas_falsoposi[3])*100,\";\",(probabilidade_falsoposi[3] + erros_otimistas_falsoposi[3])*100,']')\r\n",
    "print('Teste Quimioluminescência - CLIA : [',(probabilidade_falsoposi[4] - erros_otimistas_falsoposi[4])*100,\";\",(probabilidade_falsoposi[4] + erros_otimistas_falsoposi[4])*100,']')\r\n",
    "print('Teste Imunoensaio por Eletroquimioluminescência - ECLIA IgG : [',(probabilidade_falsoposi[5] - erros_otimistas_falsoposi[5])*100,\";\",(probabilidade_falsoposi[5] + erros_otimistas_falsoposi[5])*100,']')\r\n",
    "\r\n",
    "erros_conservativos_falsoposi = [erro_conservativo(alpha, total_RT), erro_conservativo(alpha, total_anticorpo), \r\n",
    "                                erro_conservativo(alpha, total_antigeno), erro_conservativo(alpha, total_ELISA),\r\n",
    "                                erro_conservativo(alpha, total_CLIA), erro_conservativo(alpha, total_ECLIA)]\r\n",
    "\r\n",
    "#Estimativa intervalar para a abordagem conservativa\r\n",
    "print('\\nConsiderando a abordagem conservativa\\n')\r\n",
    "print('Teste RT-PCR : [',(probabilidade_falsoposi[0] - erros_conservativos_falsoposi[0])*100,\";\",(probabilidade_falsoposi[0] + erros_conservativos_falsoposi[0])*100,']')\r\n",
    "print('Teste Rápido - Anticorpo : [',(probabilidade_falsoposi[1]  - erros_conservativos_falsoposi[1])*100,\";\",(probabilidade_falsoposi[1]  + erros_conservativos_falsoposi[1])*100,']')\r\n",
    "print('Teste Rápido - Antígeno : [',(probabilidade_falsoposi[2]  - erros_conservativos_falsoposi[2])*100,\";\",(probabilidade_falsoposi[2] + erros_conservativos_falsoposi[2])*100,']')\r\n",
    "print('Teste Enzimaimunoensaio - ELISA : [',(probabilidade_falsoposi[3]  - erros_conservativos_falsoposi[3])*100,\";\",(probabilidade_falsoposi[3]  + erros_conservativos_falsoposi[3])*100,']')\r\n",
    "print('Teste Quimioluminescência - CLIA : [',(probabilidade_falsoposi[4]  - erros_conservativos_falsoposi[4])*100,\";\",(probabilidade_falsoposi[4]  + erros_conservativos_falsoposi[4])*100,']')\r\n",
    "print('Teste Imunoensaio por Eletroquimioluminescência - ECLIA IgG : [',(probabilidade_falsoposi[5]  - erros_conservativos_falsoposi[5])*100,\";\",(probabilidade_falsoposi[5] + erros_conservativos_falsoposi[5])*100,']')\r\n"
   ],
   "outputs": [
    {
     "output_type": "stream",
     "name": "stdout",
     "text": [
      "Considerando a abordagem otimista\n",
      "\n",
      "Teste RT-PCR : [ 14.759905512286897 ; 14.886383199724335 ]\n",
      "Teste Rápido - Anticorpo : [ 14.522671585455328 ; 14.719990543420442 ]\n",
      "Teste Rápido - Antígeno : [ 12.340285077414185 ; 12.712304419915881 ]\n",
      "Teste Enzimaimunoensaio - ELISA : [ 11.378190733254081 ; 14.522040518810666 ]\n",
      "Teste Quimioluminescência - CLIA : [ 2.022192211860999 ; 3.625531049699185 ]\n",
      "Teste Imunoensaio por Eletroquimioluminescência - ECLIA IgG : [ 2.8758026155858785 ; 4.819464794956637 ]\n",
      "\n",
      "Considerando a abordagem conservativa\n",
      "\n",
      "Teste RT-PCR : [ 14.734158096054983 ; 14.912130615956249 ]\n",
      "Teste Rápido - Anticorpo : [ 14.48171330099988 ; 14.76094882787589 ]\n",
      "Teste Rápido - Antígeno : [ 12.24532765783808 ; 12.807261839491987 ]\n",
      "Teste Enzimaimunoensaio - ELISA : [ 10.609226342636646 ; 15.291004909428102 ]\n",
      "Teste Quimioluminescência - CLIA : [ 0.40414897119779514 ; 5.243574290362388 ]\n",
      "Teste Imunoensaio por Eletroquimioluminescência - ECLIA IgG : [ 1.3213393937806646 ; 6.373928016761853 ]\n",
      "\n",
      "Considerando a abordagem otimista\n",
      "\n",
      "Teste RT-PCR : [ 0.3298712203825173 ; 0.3505980140919808 ]\n",
      "Teste Rápido - Anticorpo : [ 58.59393607295507 ; 58.8688809926486 ]\n",
      "Teste Rápido - Antígeno : [ 0.4244660394932968 ; 0.5007283750737559 ]\n",
      "Teste Enzimaimunoensaio - ELISA : [ -0.02494121220014444 ; 0.3553013047009703 ]\n",
      "Teste Quimioluminescência - CLIA : [ 0.1548172525489402 ; 0.8335343182240919 ]\n",
      "Teste Imunoensaio por Eletroquimioluminescência - ECLIA IgG : [ -0.056132803699200845 ; 0.2869908260154763 ]\n",
      "\n",
      "Considerando a abordagem conservativa\n",
      "\n",
      "Teste RT-PCR : [ 0.2512483572866178 ; 0.4292208771878804 ]\n",
      "Teste Rápido - Anticorpo : [ 58.591790769363826 ; 58.87102629623983 ]\n",
      "Teste Rápido - Antígeno : [ 0.18163011645657254 ; 0.7435642981104803 ]\n",
      "Teste Enzimaimunoensaio - ELISA : [ -2.175709237145314 ; 2.5060693296461403 ]\n",
      "Teste Quimioluminescência - CLIA : [ -1.9255368741957806 ; 2.913888444968813 ]\n",
      "Teste Imunoensaio por Eletroquimioluminescência - ECLIA IgG : [ -2.410865300332456 ; 2.6417233226487316 ]\n"
     ]
    }
   ],
   "metadata": {}
  },
  {
   "cell_type": "code",
   "execution_count": 76,
   "source": [
    "from scipy.stats import norm\r\n",
    "\r\n",
    "def ecdf(data):\r\n",
    "    \"\"\" Compute ECDF \"\"\"\r\n",
    "    x = np.sort(data)\r\n",
    "    n = x.size\r\n",
    "    y = np.arange(1, n+1) / n\r\n",
    "    return(x,y)\r\n",
    "\r\n",
    "def grafico(media, variancia):\r\n",
    "    \"\"\" Compute ECDF \"\"\"\r\n",
    "    x = np.arange(0,116,0.01)\r\n",
    "    y = norm.cdf(x,media, variancia)\r\n",
    "    return(x,y)\r\n",
    "filtrando1 = dados.query('resultadoTeste == \"Positivo\" & classificacaoFinal == \"Descartado\"')\r\n",
    "infectados1 = filtrando1['idade']\r\n",
    "\r\n",
    "filtrando2 = dados.query('resultadoTeste == \"Negativo\" & classificacaoFinal != \"Descartado\"')\r\n",
    "infectados2 = filtrando2['idade']\r\n",
    "\r\n",
    "x,y = ecdf(infectados1)\r\n",
    "plt.scatter(x=x, y=y);\r\n",
    "#plt.plot(x,y)\r\n",
    "\r\n",
    "x,y = grafico(39,17.5)\r\n",
    "plt.scatter(x=x, y=y);\r\n",
    "#plt.plot(x,y)\r\n",
    "\r\n",
    "plt.show()\r\n",
    "\r\n",
    "\r\n",
    "x,y = ecdf(infectados2)\r\n",
    "plt.scatter(x=x, y=y);\r\n",
    "\r\n",
    "x,y = grafico(35,20)\r\n",
    "plt.scatter(x=x, y=y);\r\n",
    "\r\n",
    "plt.show()\r\n"
   ],
   "outputs": [
    {
     "output_type": "display_data",
     "data": {
      "text/plain": [
       "<Figure size 432x288 with 1 Axes>"
      ],
      "image/png": "[encoded data removed]"
     },
     "metadata": {
      "needs_background": "light"
     }
    },
    {
     "output_type": "display_data",
     "data": {
      "text/plain": [
       "<Figure size 432x288 with 1 Axes>"
      ],
      "image/png": "[encoded data removed]"
     },
     "metadata": {
      "needs_background": "light"
     }
    }
   ],
   "metadata": {}
  },
  {
   "cell_type": "code",
   "execution_count": null,
   "source": [],
   "outputs": [],
   "metadata": {}
  }
 ],
 "metadata": {
  "orig_nbformat": 4,
  "language_info": {
   "name": "python",
   "version": "3.8.8",
   "mimetype": "text/x-python",
   "codemirror_mode": {
    "name": "ipython",
    "version": 3
   },
   "pygments_lexer": "ipython3",
   "nbconvert_exporter": "python",
   "file_extension": ".py"
  },
  "kernelspec": {
   "name": "python3",
   "display_name": "Python 3.8.8 64-bit"
  },
  "interpreter": {
   "hash": "4f3434d7728c9e73c70b4daea6699e123f70acba67987c8ca903e00a35bcd45c"
  }
 },
 "nbformat": 4,
 "nbformat_minor": 2
}