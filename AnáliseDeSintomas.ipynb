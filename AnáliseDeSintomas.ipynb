{
 "metadata": {
  "language_info": {
   "codemirror_mode": {
    "name": "ipython",
    "version": 3
   },
   "file_extension": ".py",
   "mimetype": "text/x-python",
   "name": "python",
   "nbconvert_exporter": "python",
   "pygments_lexer": "ipython3",
   "version": "3.9.6"
  },
  "orig_nbformat": 4,
  "kernelspec": {
   "name": "python3",
   "display_name": "Python 3.9.6 64-bit"
  },
  "interpreter": {
   "hash": "767d51c1340bd893661ea55ea3124f6de3c7a262a8b4abca0554b478b1e2ff90"
  }
 },
 "nbformat": 4,
 "nbformat_minor": 2,
 "cells": [
  {
   "cell_type": "markdown",
   "source": [
    "Qual perfil dos sintomas das pessoas que pegam Covid?"
   ],
   "metadata": {}
  },
  {
   "cell_type": "code",
   "execution_count": 517,
   "source": [
    "import pandas as pd\n",
    "import matplotlib\n",
    "matplotlib.use('qt5Agg') # case does not matter tkaGg, TkAgg will do\n",
    "import matplotlib.pyplot as plt\n",
    "import numpy as np\n",
    "import tkinter\n",
    "import re\n",
    "\n",
    "import holoviews as hv\n",
    "import hvplot.pandas\n",
    "\n",
    "import panel as pn\n",
    "pn.extension()\n",
    "\n",
    "from vega_datasets import data as vds\n",
    "\n",
    "import cartopy\n",
    "import cartopy.feature as cf\n",
    "from cartopy import crs as ccrs\n",
    "\n",
    "import geocoder\n",
    "\n",
    "import json\n",
    "import re\n",
    "import json\n",
    "import glob\n",
    "import datetime\n"
   ],
   "outputs": [],
   "metadata": {}
  },
  {
   "cell_type": "code",
   "execution_count": 518,
   "source": [
    "# Gerando os URL dos .csv\n",
    "caminho = r'dados/dados-sp-'\n",
    "todos_dados_csv = glob.glob(caminho + \"*.csv\")\n",
    "\n",
    "# Colunas a serem lidas\n",
    "cols = [\"sintomas\", \"evolucaoCaso\", \"classificacaoFinal\"]\n",
    "\n",
    "# Carregando os dados\n",
    "dados = pd.concat((pd.read_csv(f, sep=';', encoding='latin1', usecols=cols, infer_datetime_format = False) for f in todos_dados_csv), ignore_index = True)"
   ],
   "outputs": [],
   "metadata": {}
  },
  {
   "cell_type": "code",
   "execution_count": 519,
   "source": [
    "# Exclui as linhas cujas colunas indicadas abaixo sao null\n",
    "dados.dropna(subset = [\"classificacaoFinal\"], inplace = True)\n",
    "\n",
    "# Exclui os dados Cancelados\n",
    "dados.drop(dados[dados['evolucaoCaso'] == 'Cancelado'].index, inplace = True)\n",
    "\n",
    "dados.reset_index(drop=True, inplace = True) # Realoca os indices depois das exclusoes"
   ],
   "outputs": [],
   "metadata": {
    "tags": []
   }
  },
  {
   "cell_type": "code",
   "execution_count": 520,
   "source": [
    "sintomas = dados[\"sintomas\"]\n",
    "classificacaoFinal = dados[\"classificacaoFinal\"]\n",
    "evolucaoDoCaso = dados[\"evolucaoCaso\"]"
   ],
   "outputs": [],
   "metadata": {}
  },
  {
   "cell_type": "code",
   "execution_count": 521,
   "source": [
    "MatrizTeste = []\n",
    "teste4 = ''\n",
    "string1 = ['Assintomático']\n",
    "string2 = ['Outros: Paciente assintomático']\n",
    "string3 = ['Paciente assintomático']\n",
    "\n",
    "\n",
    "##Alem de separar as palavras para criar uma Matriz de Sintomas, ainda conta quantos sintomas cada pessoa teve\n",
    "for i in range(len(sintomas)):\n",
    "    teste = []\n",
    "    if(type(sintomas[i]) == str):\n",
    "        teste.append(re.split(', |,, |,|,,', sintomas[i]))\n",
    "    else:\n",
    "        teste.append(teste4)\n",
    "    \n",
    "    \n",
    "    if(teste[0] == string1 or teste[0] == string2 or teste[0] == string3):\n",
    "        teste[0] = ['Assintomático']\n",
    "        teste.append(0)\n",
    "    else:\n",
    "        if(len(teste[0]) == 10):\n",
    "            continue\n",
    "        teste.append(len(teste[0]))\n",
    "    teste.append(classificacaoFinal[i])\n",
    "    teste.append(evolucaoDoCaso[i])\n",
    "    MatrizTeste.append(teste)"
   ],
   "outputs": [],
   "metadata": {
    "tags": []
   }
  },
  {
   "cell_type": "code",
   "execution_count": 522,
   "source": [
    "\n",
    "matrizPanda = pd.DataFrame(MatrizTeste)\n",
    "matrizPandaCovid = pd.DataFrame(MatrizTeste)\n",
    "\n",
    "\n",
    "matrizPanda.rename(columns={0:'sintomas',1:'numSintomasPorPessoas' ,2:'classificacaoFinal', 3:'evolucaoCaso'},inplace = True)\n",
    "matrizPandaCovid.rename(columns={0:'sintomas',1:'numSintomasPorPessoas' ,2:'classificacaoFinal', 3:'evolucaoCaso'},inplace = True)"
   ],
   "outputs": [],
   "metadata": {}
  },
  {
   "cell_type": "code",
   "execution_count": 523,
   "source": [
    "matrizPandaCovid.drop(matrizPandaCovid[matrizPandaCovid['classificacaoFinal'] == 'Descartado'].index, inplace=True)\n",
    "matrizPandaCovid.drop(matrizPandaCovid[matrizPandaCovid['classificacaoFinal'] == 'Síndrome Gripal Não Especificada'].index, inplace=True)\n",
    "\n",
    "\n",
    "matrizPanda.reset_index(drop=True, inplace = True)\n",
    "matrizPandaCovid.reset_index(drop=True, inplace = True)"
   ],
   "outputs": [],
   "metadata": {}
  },
  {
   "cell_type": "code",
   "execution_count": 524,
   "source": [
    "matrizPandaCovid"
   ],
   "outputs": [
    {
     "output_type": "execute_result",
     "data": {
      "text/plain": [
       "                                                  sintomas  \\\n",
       "0                                          [Dor de Cabeça]   \n",
       "1                                                 [Outros]   \n",
       "2                                                 [Outros]   \n",
       "3                         [Febre, Outros, Dor de Garganta]   \n",
       "4                                   [Febre, Tosse, Outros]   \n",
       "...                                                    ...   \n",
       "1892926  [Febre, Dor de Garganta, Dor de Cabeça, Distúr...   \n",
       "1892927                                            [Tosse]   \n",
       "1892928                                    [Febre, Outros]   \n",
       "1892929                                    [Assintomático]   \n",
       "1892930  [Dor de Cabeça, Distúrbios Gustativos, Distúrb...   \n",
       "\n",
       "         numSintomasPorPessoas       classificacaoFinal  \\\n",
       "0                            1  Confirmado Laboratorial   \n",
       "1                            1  Confirmado Laboratorial   \n",
       "2                            1  Confirmado Laboratorial   \n",
       "3                            3  Confirmado Laboratorial   \n",
       "4                            3  Confirmado Laboratorial   \n",
       "...                        ...                      ...   \n",
       "1892926                      5  Confirmado Laboratorial   \n",
       "1892927                      1  Confirmado Laboratorial   \n",
       "1892928                      2  Confirmado Laboratorial   \n",
       "1892929                      0  Confirmado Laboratorial   \n",
       "1892930                      3  Confirmado Laboratorial   \n",
       "\n",
       "                     evolucaoCaso  \n",
       "0                            Cura  \n",
       "1        Em tratamento domiciliar  \n",
       "2                            Cura  \n",
       "3                            Cura  \n",
       "4        Em tratamento domiciliar  \n",
       "...                           ...  \n",
       "1892926                      Cura  \n",
       "1892927                      Cura  \n",
       "1892928                      Cura  \n",
       "1892929                      Cura  \n",
       "1892930                      Cura  \n",
       "\n",
       "[1892931 rows x 4 columns]"
      ],
      "text/html": [
       "<div>\n",
       "<style scoped>\n",
       "    .dataframe tbody tr th:only-of-type {\n",
       "        vertical-align: middle;\n",
       "    }\n",
       "\n",
       "    .dataframe tbody tr th {\n",
       "        vertical-align: top;\n",
       "    }\n",
       "\n",
       "    .dataframe thead th {\n",
       "        text-align: right;\n",
       "    }\n",
       "</style>\n",
       "<table border=\"1\" class=\"dataframe\">\n",
       "  <thead>\n",
       "    <tr style=\"text-align: right;\">\n",
       "      <th></th>\n",
       "      <th>sintomas</th>\n",
       "      <th>numSintomasPorPessoas</th>\n",
       "      <th>classificacaoFinal</th>\n",
       "      <th>evolucaoCaso</th>\n",
       "    </tr>\n",
       "  </thead>\n",
       "  <tbody>\n",
       "    <tr>\n",
       "      <th>0</th>\n",
       "      <td>[Dor de Cabeça]</td>\n",
       "      <td>1</td>\n",
       "      <td>Confirmado Laboratorial</td>\n",
       "      <td>Cura</td>\n",
       "    </tr>\n",
       "    <tr>\n",
       "      <th>1</th>\n",
       "      <td>[Outros]</td>\n",
       "      <td>1</td>\n",
       "      <td>Confirmado Laboratorial</td>\n",
       "      <td>Em tratamento domiciliar</td>\n",
       "    </tr>\n",
       "    <tr>\n",
       "      <th>2</th>\n",
       "      <td>[Outros]</td>\n",
       "      <td>1</td>\n",
       "      <td>Confirmado Laboratorial</td>\n",
       "      <td>Cura</td>\n",
       "    </tr>\n",
       "    <tr>\n",
       "      <th>3</th>\n",
       "      <td>[Febre, Outros, Dor de Garganta]</td>\n",
       "      <td>3</td>\n",
       "      <td>Confirmado Laboratorial</td>\n",
       "      <td>Cura</td>\n",
       "    </tr>\n",
       "    <tr>\n",
       "      <th>4</th>\n",
       "      <td>[Febre, Tosse, Outros]</td>\n",
       "      <td>3</td>\n",
       "      <td>Confirmado Laboratorial</td>\n",
       "      <td>Em tratamento domiciliar</td>\n",
       "    </tr>\n",
       "    <tr>\n",
       "      <th>...</th>\n",
       "      <td>...</td>\n",
       "      <td>...</td>\n",
       "      <td>...</td>\n",
       "      <td>...</td>\n",
       "    </tr>\n",
       "    <tr>\n",
       "      <th>1892926</th>\n",
       "      <td>[Febre, Dor de Garganta, Dor de Cabeça, Distúr...</td>\n",
       "      <td>5</td>\n",
       "      <td>Confirmado Laboratorial</td>\n",
       "      <td>Cura</td>\n",
       "    </tr>\n",
       "    <tr>\n",
       "      <th>1892927</th>\n",
       "      <td>[Tosse]</td>\n",
       "      <td>1</td>\n",
       "      <td>Confirmado Laboratorial</td>\n",
       "      <td>Cura</td>\n",
       "    </tr>\n",
       "    <tr>\n",
       "      <th>1892928</th>\n",
       "      <td>[Febre, Outros]</td>\n",
       "      <td>2</td>\n",
       "      <td>Confirmado Laboratorial</td>\n",
       "      <td>Cura</td>\n",
       "    </tr>\n",
       "    <tr>\n",
       "      <th>1892929</th>\n",
       "      <td>[Assintomático]</td>\n",
       "      <td>0</td>\n",
       "      <td>Confirmado Laboratorial</td>\n",
       "      <td>Cura</td>\n",
       "    </tr>\n",
       "    <tr>\n",
       "      <th>1892930</th>\n",
       "      <td>[Dor de Cabeça, Distúrbios Gustativos, Distúrb...</td>\n",
       "      <td>3</td>\n",
       "      <td>Confirmado Laboratorial</td>\n",
       "      <td>Cura</td>\n",
       "    </tr>\n",
       "  </tbody>\n",
       "</table>\n",
       "<p>1892931 rows × 4 columns</p>\n",
       "</div>"
      ]
     },
     "metadata": {},
     "execution_count": 524
    }
   ],
   "metadata": {}
  },
  {
   "cell_type": "code",
   "execution_count": 525,
   "source": [
    "sintomasPorPessoaTotal = matrizPanda.numSintomasPorPessoas.value_counts()\n",
    "sintomasPorPessoaCovid = matrizPandaCovid.numSintomasPorPessoas.value_counts()"
   ],
   "outputs": [],
   "metadata": {}
  },
  {
   "cell_type": "markdown",
   "source": [
    "Vamos calcular a Probabilidade Condicional de numeros de sintomas e pessoas que pegaram covid"
   ],
   "metadata": {}
  },
  {
   "cell_type": "code",
   "execution_count": 526,
   "source": [
    "pB = sintomasPorPessoaTotal.sort_index()/sintomasPorPessoaTotal.sum()"
   ],
   "outputs": [],
   "metadata": {}
  },
  {
   "cell_type": "markdown",
   "source": [
    "P(B) = Probabilidade da pessoa ter \"B\" sintomas\n"
   ],
   "metadata": {}
  },
  {
   "cell_type": "code",
   "execution_count": 527,
   "source": [
    "pA = matrizPandaCovid['classificacaoFinal'].count()/matrizPanda['classificacaoFinal'].count()"
   ],
   "outputs": [],
   "metadata": {}
  },
  {
   "cell_type": "markdown",
   "source": [
    "P(A) = probabilidade das pessoas com covid confirmado "
   ],
   "metadata": {}
  },
  {
   "cell_type": "code",
   "execution_count": 528,
   "source": [
    "pAinterseccaoB = sintomasPorPessoaCovid.sort_index()/sintomasPorPessoaTotal.sum()"
   ],
   "outputs": [],
   "metadata": {}
  },
  {
   "cell_type": "markdown",
   "source": [
    "P(A intersecçao B)"
   ],
   "metadata": {}
  },
  {
   "cell_type": "code",
   "execution_count": 529,
   "source": [
    "pBcondicionalA = pAinterseccaoB/pB\n",
    "\n",
    "%matplotlib\n",
    "plt.bar(pBcondicionalA.keys() , pBcondicionalA.values)\n",
    "\n",
    "plt.show()"
   ],
   "outputs": [
    {
     "output_type": "stream",
     "name": "stdout",
     "text": [
      "Using matplotlib backend: Qt5Agg\n"
     ]
    }
   ],
   "metadata": {}
  },
  {
   "cell_type": "markdown",
   "source": [
    "P(B/A) = Probabilidade da pessoa ter covid a partir da quantidade de sintomas que ela possui"
   ],
   "metadata": {}
  },
  {
   "cell_type": "markdown",
   "source": [
    "A maior probabilidade da pessoa ter covid é quando ela tem 8 Sintomas, que é 61.6% "
   ],
   "metadata": {}
  },
  {
   "cell_type": "code",
   "execution_count": 530,
   "source": [
    "def contarPalavras(matriz):\n",
    "    contadorPalavrasCovid = {}\n",
    "    for linhas in matriz['sintomas']:\n",
    "        for palavra in linhas:\n",
    "            if(palavra == 'Distúrbios Gustativos'):\n",
    "                palavra = 'Gustativos'\n",
    "            elif(palavra == 'Distúrbios Olfativos'):\n",
    "                palavra = 'Olfativos'\n",
    "            elif(palavra == 'Dor De Garganta'):\n",
    "                palavra =  'Dor de Garganta'\n",
    "            elif(palavra == ''):\n",
    "                continue\n",
    "            elif(palavra == 'Dispnéia'):\n",
    "                palavra = 'Dispneia'\n",
    "            contadorPalavrasCovid.setdefault(palavra, 0)\n",
    "            contadorPalavrasCovid[palavra] += 1\n",
    "\n",
    "    return contadorPalavrasCovid\n"
   ],
   "outputs": [],
   "metadata": {}
  },
  {
   "cell_type": "markdown",
   "source": [
    "Chance de desenvolver um sintoma quando tiver covid"
   ],
   "metadata": {}
  },
  {
   "cell_type": "markdown",
   "source": [
    "Por ser uma distribuição de Bernoulli, a frequencia relativa dada a uma população relativamente grande, também é seu estimador "
   ],
   "metadata": {}
  },
  {
   "cell_type": "code",
   "execution_count": 531,
   "source": [
    "contadorPalavrasCovid = contarPalavras(matrizPandaCovid)\n",
    "sintomasCovid = contadorPalavrasCovid.copy()\n",
    "\n",
    "for key in contadorPalavrasCovid:\n",
    "    contadorPalavrasCovid[key] = contadorPalavrasCovid[key]/len(matrizPandaCovid)"
   ],
   "outputs": [],
   "metadata": {}
  },
  {
   "cell_type": "markdown",
   "source": [
    "Aqui mostra a chance de voce ter um sintoma se voce tem covid"
   ],
   "metadata": {}
  },
  {
   "cell_type": "code",
   "execution_count": 548,
   "source": [
    "%matplotlib\n",
    "\n",
    "plt.bar(sorted(contadorPalavrasCovid.keys()), sorted(contadorPalavrasCovid.values()))\n",
    "plt.xlabel(\"sintomas\")\n",
    "plt.ylabel(\"Frequência Relativa\")\n",
    "plt.title('Frequência de covid para cada sintoma')\n"
   ],
   "outputs": [
    {
     "output_type": "stream",
     "name": "stdout",
     "text": [
      "Using matplotlib backend: Qt5Agg\n"
     ]
    },
    {
     "output_type": "execute_result",
     "data": {
      "text/plain": [
       "Text(0.5, 1.0, 'Frequência de covid para cada sintoma')"
      ]
     },
     "metadata": {},
     "execution_count": 548
    }
   ],
   "metadata": {}
  },
  {
   "cell_type": "markdown",
   "source": [
    "Agora vamos fazer a mesma análise dos sintomas para obitos e para cura "
   ],
   "metadata": {}
  },
  {
   "cell_type": "code",
   "execution_count": 534,
   "source": [
    "contadorPalavrasTotal = contarPalavras(matrizPanda)\n",
    "\n",
    "sintomasTotal = contadorPalavrasTotal.copy()"
   ],
   "outputs": [],
   "metadata": {}
  },
  {
   "cell_type": "code",
   "execution_count": 535,
   "source": [
    "matrizPandaCovidObitos = matrizPandaCovid.copy()\n",
    "\n",
    "matrizPandaCovidObitos.drop(matrizPandaCovidObitos[matrizPandaCovidObitos['evolucaoCaso'] != 'Óbito'].index, inplace=True)\n",
    "matrizPandaCovidObitos.reset_index(drop=True, inplace = True)"
   ],
   "outputs": [],
   "metadata": {}
  },
  {
   "cell_type": "code",
   "execution_count": 536,
   "source": [
    "contadorPalavrasCovidObitos = contarPalavras(matrizPandaCovidObitos)\n",
    "\n",
    "sintomasCovidObitos = contadorPalavrasCovid.copy()\n",
    "\n",
    "for key in contadorPalavrasCovidObitos:\n",
    "    contadorPalavrasCovidObitos[key] = contadorPalavrasCovidObitos[key]/sintomasCovid[key]"
   ],
   "outputs": [],
   "metadata": {}
  },
  {
   "cell_type": "code",
   "execution_count": 537,
   "source": [
    "plt.bar(sorted(contadorPalavrasCovidObitos.keys()), sorted(contadorPalavrasCovidObitos.values()), color='green')\n",
    "\n",
    "plt.xlabel(\"sintomas\")\n",
    "plt.ylabel(\"Frequência Relativa\")\n",
    "plt.title('Frequência de óbitos de covid para cada sintoma')\n",
    "\n",
    "plt.show()"
   ],
   "outputs": [],
   "metadata": {}
  },
  {
   "cell_type": "code",
   "execution_count": 538,
   "source": [
    "matrizPandaCura = matrizPandaCovid.copy()\n",
    "\n",
    "matrizPandaCura.drop(matrizPandaCura[matrizPandaCura['evolucaoCaso'] != 'Cura'].index, inplace=True)\n",
    "matrizPandaCura.reset_index(drop=True, inplace = True)"
   ],
   "outputs": [],
   "metadata": {}
  },
  {
   "cell_type": "code",
   "execution_count": 539,
   "source": [
    "contadorPalavrasCura = contarPalavras(matrizPandaCura)\n",
    "\n",
    "sintomasCura = contadorPalavrasCura.copy()\n",
    "\n",
    "for key in contadorPalavrasCura:\n",
    "    contadorPalavrasCura[key] = contadorPalavrasCura[key]/sintomasCovid[key]"
   ],
   "outputs": [],
   "metadata": {}
  },
  {
   "cell_type": "code",
   "execution_count": 540,
   "source": [
    "plt.bar(sorted(contadorPalavrasCura.keys()), sorted(contadorPalavrasCura.values()), color='green')\n",
    "\n",
    "plt.xlabel(\"sintomas\")\n",
    "plt.ylabel(\"Frequência Relativa\")\n",
    "plt.title('Frequência de curados para cada sintoma')\n",
    "\n",
    "plt.show()"
   ],
   "outputs": [],
   "metadata": {}
  },
  {
   "cell_type": "code",
   "execution_count": 547,
   "source": [
    "\n",
    "fig, ax = plt.subplots()\n",
    "\n",
    "ind = np.arange(10)\n",
    "width = 0.35\n",
    "\n",
    "rects1 = ax.bar(ind, sorted(contadorPalavrasCura.values()), width, color='g')\n",
    "rects2 = ax.bar(ind + width, sorted(contadorPalavrasCovidObitos.values()), width, color='r')\n",
    "\n",
    "ax.set_xticks(ind + width/2)\n",
    "ax.set_xticklabels(('Assintomático', 'Coriza', 'Dispneia', 'Gustativos', 'Olftativos', 'Dor de Cabeça', 'Dor de garganta', 'Febre', 'Outros', 'Tosse'))\n",
    "\n",
    "ax.legend((rects1[0], rects2[0]), ('Cura', 'Óbitos'))\n",
    "\n",
    "plt.show()\n"
   ],
   "outputs": [],
   "metadata": {}
  },
  {
   "cell_type": "markdown",
   "source": [
    "Correlação entre os sintomas\n",
    "\n",
    "Vamos pegar os Três sintomas mais frequentes (tosse, febre e Dor de cabeça) e verificar se eles possuem alguma correlação "
   ],
   "metadata": {}
  },
  {
   "cell_type": "code",
   "execution_count": 542,
   "source": [
    "numFebreTosse = 0\n",
    "numFebreDorDeCabeca = 0\n",
    "numDorDeCabecaTosse = 0\n",
    "numFebreDorDeCabecaTosse = 0\n",
    "\n",
    "for linha in matrizPandaCovid['sintomas']:\n",
    "    if(('Tosse' in linha) and ('Febre' in linha) and ('Dor de Cabeça' in linha)): \n",
    "        numFebreDorDeCabecaTosse += 1\n",
    "    elif(('Febre' in linha) and ('Tosse' in linha)):\n",
    "        numFebreTosse += 1\n",
    "    elif(('Febre' in linha) and ('Dor de Cabeça' in linha)):\n",
    "        numFebreDorDeCabeca += 1\n",
    "    elif(('Tosse' in linha) and ('Dor de Cabeça' in linha)):\n",
    "        numDorDeCabecaTosse += 1\n",
    "\n",
    "print('A quantidade de vezes que apareceu os sintomas ao mesmo momento foi')\n",
    "\n",
    "freqFebreTosse = round((numFebreTosse+numFebreDorDeCabecaTosse)/sintomasCovid['Tosse'], 2)\n",
    "freqTosseFebre = round((numFebreTosse+numFebreDorDeCabecaTosse)/sintomasCovid['Febre'], 2)\n",
    "freqFebreDorDeCabeca = round((numFebreDorDeCabeca+numFebreDorDeCabecaTosse)/sintomasCovid['Dor de Cabeça'],2)\n",
    "freqDorDeCabecaFebre = round((numFebreDorDeCabeca+numFebreDorDeCabecaTosse)/sintomasCovid['Febre'],2)\n",
    "freqDorDeCabecaTosse = round((numDorDeCabecaTosse+numFebreDorDeCabecaTosse)/sintomasCovid['Tosse'],2)\n",
    "freqTosseDorDeCabeca = round((numDorDeCabecaTosse+numFebreDorDeCabecaTosse)/sintomasCovid['Dor de Cabeça'],2)\n",
    "freqTosse = round((numFebreDorDeCabecaTosse)/sintomasCovid['Tosse'],2)\n",
    "freqFebre = round((numFebreDorDeCabecaTosse)/sintomasCovid['Febre'],2)\n",
    "freqDorDeCabeca = round((numFebreDorDeCabecaTosse)/sintomasCovid['Dor de Cabeça'],2)\n",
    "\n",
    "\n",
    "print('A febre apareceu em ', freqFebreTosse, ' vezes que tosse apareceu e a tosse apareceu em ', freqTosseFebre , 'vezes que a febre apareceu')\n",
    "print('A febre apareceu em ', freqFebreDorDeCabeca , ' vezes que Dor de Cabeca apareceu e a Dor de Cabeca apareceu em ', freqDorDeCabecaFebre , 'vezes que a febre apareceu')\n",
    "print('A Dor de Cabeça apareceu em ',freqDorDeCabecaTosse, ' vezes que Tosse apareceu e a Tosse apareceu em ', freqTosseDorDeCabeca, 'vezes que a Dor de cabeça apareceu')\n",
    "print('ja as 3 apareceram juntas em ' , freqTosse, ' vezes que a tosse apareceu, ', freqFebre, ' vezes que a febre apareceu e,', freqDorDeCabeca, ' vezes que a dor de cabeça apareceu')\n",
    "\n"
   ],
   "outputs": [
    {
     "output_type": "stream",
     "name": "stdout",
     "text": [
      "A quantidade de vezes que apareceu os sintomas ao mesmo momento foi\n",
      "A febre apareceu em  0.44  vezes que tosse apareceu e a tosse apareceu em  0.63 vezes que a febre apareceu\n",
      "A febre apareceu em  0.4  vezes que Dor de Cabeca apareceu e a Dor de Cabeca apareceu em  0.37 vezes que a febre apareceu\n",
      "A Dor de Cabeça apareceu em  0.36  vezes que Tosse apareceu e a Tosse apareceu em  0.56 vezes que a Dor de cabeça apareceu\n",
      "ja as 3 apareceram juntas em  0.16  vezes que a tosse apareceu,  0.23  vezes que a febre apareceu e, 0.25  vezes que a dor de cabeça apareceu\n"
     ]
    }
   ],
   "metadata": {}
  },
  {
   "cell_type": "markdown",
   "source": [
    "Com isso, é possível perceber que o sintoma que mais aparece relacionado com os outros sintomas é a Tosse que aparece muito em conjunto com dor de cabeça ou febre mas não aparecem muito esses 3 sintomas juntos."
   ],
   "metadata": {}
  },
  {
   "cell_type": "code",
   "execution_count": 546,
   "source": [
    "listaDeFreqY = [freqFebreTosse,\n",
    "                     freqTosseFebre,\n",
    "                     freqFebreDorDeCabeca,\n",
    "                     freqDorDeCabecaFebre,\n",
    "                     freqDorDeCabecaTosse,\n",
    "                     freqTosseDorDeCabeca,\n",
    "                     freqTosse,\n",
    "                     freqFebre,\n",
    "                     freqDorDeCabeca]\n",
    "\n",
    "listaDeFreqX = ['Febre/Tosse', \n",
    "                'Tosse/Febre',\n",
    "                'Febre/Dor de Cabeca ',\n",
    "                'Dor de Cabeca/febre',\n",
    "                'Dor de Cabeca/tosse',\n",
    "                'Tosse/dor de cabeca',\n",
    "                'Tosse',\n",
    "                'Febre',\n",
    "                'Dor de cabeca'\n",
    "                ]\n",
    "\n",
    "plt.bar(listaDeFreqX, listaDeFreqY)\n",
    "\n",
    "\n",
    "plt.show()"
   ],
   "outputs": [],
   "metadata": {}
  },
  {
   "cell_type": "code",
   "execution_count": null,
   "source": [],
   "outputs": [],
   "metadata": {}
  }
 ]
}